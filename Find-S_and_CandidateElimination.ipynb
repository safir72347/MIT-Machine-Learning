{
 "cells": [
  {
   "cell_type": "markdown",
   "metadata": {},
   "source": [
    "## ML Lab Assignment 2\n",
    "\n",
    "### Team Members\n",
    "* Safir Motiwala (2175052)\n",
    "* Rajendra Kelwa (2175048)\n",
    "\n",
    "#### Topic : Find-S Algorithm and Candidate Elimination ALgorithm"
   ]
  },
  {
   "cell_type": "markdown",
   "metadata": {},
   "source": [
    "### Building the DataSet"
   ]
  },
  {
   "cell_type": "code",
   "execution_count": 14,
   "metadata": {},
   "outputs": [],
   "source": [
    "fields = ['State', 'Climate', 'Age', 'Body_Shape', 'Immune_Strength', 'Covid_19']\n",
    "state = ['Maharashtra', 'Karnataka']\n",
    "Age = ['Young', 'Old']\n",
    "Immune_Strength = ['Weak', 'High']\n",
    "Covid_19 = ['Yes', 'No']\n",
    "\n",
    "import csv\n",
    "import random\n",
    "\n",
    "filename = 'Covid-19_Data.csv'\n",
    "with open(filename, 'w') as csvfile:\n",
    "    csvwriter = csv.writer(csvfile)\n",
    "    csvwriter.writerow(fields)\n",
    "    row = [random.choice(state), 'Sunny', random.choice(Age), 'Under-weight', random.choice(Immune_Strength), 'Yes']\n",
    "    csvwriter.writerow(row)\n",
    "    for i in range(2):\n",
    "        row = [random.choice(state), 'Sunny', random.choice(Age), 'Under-weight', random.choice(Immune_Strength), 'No']\n",
    "    csvwriter.writerow(row)\n",
    "    for i in range(0, 390):\n",
    "        row = [random.choice(state), 'Sunny', random.choice(Age), 'Under-weight', random.choice(Immune_Strength), random.choice(Covid_19)]\n",
    "        csvwriter.writerow(row)\n",
    "    for i in range(0,10):\n",
    "        row = [random.choice(state), 'Winter', random.choice(Age), 'Over-weight', random.choice(Immune_Strength), random.choice(Covid_19)]\n",
    "        csvwriter.writerow(row)"
   ]
  },
  {
   "cell_type": "markdown",
   "metadata": {},
   "source": [
    "### Importing the Dataset and Preprocessing"
   ]
  },
  {
   "cell_type": "code",
   "execution_count": 2,
   "metadata": {},
   "outputs": [],
   "source": [
    "import numpy as np\n",
    "import matplotlib.pyplot as plt\n",
    "import pandas as pd\n",
    "\n",
    "dataset = pd.read_csv('Covid-19_Data.csv')\n",
    "\n",
    "result = {'Yes':1, 'No':0}\n",
    "dataset['Covid_19'] = dataset['Covid_19'].map(result)\n",
    "\n",
    "X = dataset.iloc[:, 0:5].values\n",
    "y = dataset.iloc[:, -1].values\n",
    "\n",
    "from sklearn.model_selection import KFold\n",
    "kf = KFold(n_splits=10)\n",
    "#print(kf.get_n_splits(X))\n",
    "\n",
    "for train_index, test_index in kf.split(X,y):\n",
    "    X_train, X_test = X[train_index], X[test_index]\n",
    "    y_train, y_test = y[train_index], y[test_index]"
   ]
  },
  {
   "cell_type": "code",
   "execution_count": 3,
   "metadata": {},
   "outputs": [
    {
     "name": "stdout",
     "output_type": "stream",
     "text": [
      "         State Climate    Age    Body_Shape Immune_Strength  Covid_19\n",
      "0  Maharashtra   Sunny  Young  Under-weight            Weak         1\n",
      "1  Maharashtra   Sunny  Young  Under-weight            Weak         0\n",
      "2    Karnataka   Sunny    Old  Under-weight            Weak         0\n",
      "3  Maharashtra   Sunny    Old  Under-weight            High         1\n",
      "4  Maharashtra   Sunny  Young  Under-weight            Weak         0\n"
     ]
    }
   ],
   "source": [
    "print(dataset.head())"
   ]
  },
  {
   "cell_type": "markdown",
   "metadata": {},
   "source": [
    "### Writing the Code for Find-S Algorithm"
   ]
  },
  {
   "cell_type": "code",
   "execution_count": 4,
   "metadata": {},
   "outputs": [],
   "source": [
    "class FindS:\n",
    "    def __init__(self):\n",
    "        self.Xtrain = \"\"\n",
    "        self.ytrain = \"\"\n",
    "        self.Xtest = \"\"\n",
    "        self.ytest = \"\"\n",
    "        self.specific_hypothesis = []\n",
    "    \n",
    "    def fit(self, X, y):\n",
    "        count = 0\n",
    "        self.Xtrain, self.ytrain = X, y\n",
    "        for i, val in enumerate(y):\n",
    "            if val==1:\n",
    "                S_hypothesis = list(X[0].copy())\n",
    "                print(\"Initial : \", S_hypothesis)\n",
    "                break\n",
    "        for i, val in enumerate(X):\n",
    "            if y[i]==1:\n",
    "                count+=1\n",
    "                for x in range(len(S_hypothesis)):\n",
    "                    if val[x] == S_hypothesis[x]:\n",
    "                        pass\n",
    "                    else:\n",
    "                        S_hypothesis[x] = '?'\n",
    "        print(\"Total Positive Records : \", count)\n",
    "        self.specific_hypothesis = S_hypothesis\n",
    "        return S_hypothesis\n",
    "    \n",
    "    def predict(self, X):\n",
    "        y = np.array([0 for i in range(len(X))])\n",
    "        self.Xtest = X\n",
    "        for i, val in enumerate(X):\n",
    "            val = list(val)\n",
    "            check = 0\n",
    "            for x in range(len(val)):\n",
    "                if val[x] == self.specific_hypothesis[x]:\n",
    "                    check+=1\n",
    "                else:\n",
    "                    pass\n",
    "            if check>0:\n",
    "                y[i] = 1\n",
    "            else:\n",
    "                y[i] = 0\n",
    "        self.ytest = y\n",
    "        return y"
   ]
  },
  {
   "cell_type": "markdown",
   "metadata": {},
   "source": [
    "### Fitting the Training Set to the Model"
   ]
  },
  {
   "cell_type": "code",
   "execution_count": 5,
   "metadata": {},
   "outputs": [
    {
     "name": "stdout",
     "output_type": "stream",
     "text": [
      "Initial :  ['Maharashtra', 'Sunny', 'Young', 'Under-weight', 'Weak']\n",
      "Total Positive Records :  180\n"
     ]
    }
   ],
   "source": [
    "from FindSAlgorithm import FindS\n",
    "fs = FindS()            \n",
    "S_hypothesis = fs.fit(X_train, y_train)"
   ]
  },
  {
   "cell_type": "code",
   "execution_count": 6,
   "metadata": {},
   "outputs": [
    {
     "name": "stdout",
     "output_type": "stream",
     "text": [
      "Specific Hypothesis :  ['?', 'Sunny', '?', 'Under-weight', '?']\n"
     ]
    }
   ],
   "source": [
    "print(\"Specific Hypothesis : \", S_hypothesis)"
   ]
  },
  {
   "cell_type": "markdown",
   "metadata": {},
   "source": [
    "### Predicting the Test Set Results"
   ]
  },
  {
   "cell_type": "code",
   "execution_count": 7,
   "metadata": {},
   "outputs": [],
   "source": [
    "y_pred = fs.predict(X_test)\n",
    "y_pred1 = fs.predict(X_train)"
   ]
  },
  {
   "cell_type": "code",
   "execution_count": 8,
   "metadata": {},
   "outputs": [
    {
     "name": "stdout",
     "output_type": "stream",
     "text": [
      "[1 1 1 1 1 1 1 1 1 1 1 1 1 1 1 1 1 1 1 1 1 1 1 1 1 1 1 1 1 1 0 0 0 0 0 0 0\n",
      " 0 0 0]\n"
     ]
    }
   ],
   "source": [
    "print(y_pred)"
   ]
  },
  {
   "cell_type": "markdown",
   "metadata": {},
   "source": [
    "### Finding the Average Precision Score"
   ]
  },
  {
   "cell_type": "code",
   "execution_count": 9,
   "metadata": {},
   "outputs": [
    {
     "name": "stdout",
     "output_type": "stream",
     "text": [
      "Average Precision Score (Training Data) :  0.5\n",
      "Average Precision Score (Test Data) :  0.33809523809523806\n"
     ]
    }
   ],
   "source": [
    "from sklearn.metrics import accuracy_score, average_precision_score, f1_score\n",
    "\n",
    "Avg1 = average_precision_score(y_train, y_pred1, average='micro', pos_label=1)\n",
    "Avg2 = average_precision_score(y_test, y_pred, average='micro', pos_label=1)\n",
    "\n",
    "print(\"Average Precision Score (Training Data) : \", Avg1)\n",
    "print(\"Average Precision Score (Test Data) : \", Avg2)"
   ]
  },
  {
   "cell_type": "markdown",
   "metadata": {},
   "source": [
    "### Finding the F-1 Score"
   ]
  },
  {
   "cell_type": "code",
   "execution_count": 10,
   "metadata": {},
   "outputs": [
    {
     "name": "stdout",
     "output_type": "stream",
     "text": [
      "F-1 Score (Training Data) :  0.6666666666666666\n",
      "F-1 Score (Test Data) :  0.4545454545454545\n"
     ]
    }
   ],
   "source": [
    "FS1 = f1_score(y_train, y_pred1, average='binary', pos_label=1)\n",
    "FS2 = f1_score(y_test, y_pred, average='binary', pos_label=1)\n",
    "\n",
    "print(\"F-1 Score (Training Data) : \", FS1)\n",
    "print(\"F-1 Score (Test Data) : \", FS2)"
   ]
  },
  {
   "cell_type": "markdown",
   "metadata": {},
   "source": [
    "### Plotting Area Under the Curve"
   ]
  },
  {
   "cell_type": "code",
   "execution_count": 11,
   "metadata": {},
   "outputs": [
    {
     "name": "stdout",
     "output_type": "stream",
     "text": [
      "Area under the Curve :  0.4725274725274725\n"
     ]
    }
   ],
   "source": [
    "from sklearn import metrics\n",
    "fpr, tpr, thresholds = metrics.roc_curve(y_test, y_pred, pos_label=1)\n",
    "auc = metrics.auc(fpr, tpr)\n",
    "print(\"Area under the Curve : \", auc)"
   ]
  },
  {
   "cell_type": "code",
   "execution_count": 12,
   "metadata": {},
   "outputs": [
    {
     "name": "stdout",
     "output_type": "stream",
     "text": [
      "No Skill: ROC AUC=0.500\n",
      "Logistic: ROC AUC=0.473\n"
     ]
    },
    {
     "data": {
      "image/png": "[encoded data removed]",
      "text/plain": [
       "<Figure size 432x288 with 1 Axes>"
      ]
     },
     "metadata": {
      "needs_background": "light"
     },
     "output_type": "display_data"
    }
   ],
   "source": [
    "from sklearn.metrics import roc_auc_score, roc_curve\n",
    "ns_probs = [0 for _ in range(len(y_test))]\n",
    "lr_probs = y_pred\n",
    "\n",
    "ns_auc = roc_auc_score(y_test, ns_probs)\n",
    "lr_auc = roc_auc_score(y_test, lr_probs)\n",
    "\n",
    "print('No Skill: ROC AUC=%.3f' % (ns_auc))\n",
    "print('Logistic: ROC AUC=%.3f' % (lr_auc))\n",
    "\n",
    "ns_fpr, ns_tpr, _ = roc_curve(y_test, ns_probs)\n",
    "lr_fpr, lr_tpr, _ = roc_curve(y_test, lr_probs)\n",
    "plt.plot(ns_fpr, ns_tpr, linestyle='--', label='No Skill')\n",
    "plt.plot(lr_fpr, lr_tpr, marker='.', label='Logistic')\n",
    "plt.xlabel('False Positive Rate')\n",
    "plt.ylabel('True Positive Rate')\n",
    "plt.legend()\n",
    "plt.show()"
   ]
  },
  {
   "cell_type": "markdown",
   "metadata": {},
   "source": [
    "### Writing the Code for Candidate Elimination Algorithm"
   ]
  },
  {
   "cell_type": "code",
   "execution_count": 13,
   "metadata": {},
   "outputs": [],
   "source": [
    "class Candidate_Elimination:\n",
    "    def __init__(self):\n",
    "        self.Xtrain = \"\"\n",
    "        self.ytrain = \"\"\n",
    "        self.Xtest = \"\"\n",
    "        self.ytest = \"\"\n",
    "        self.specific_hypothesis = []\n",
    "        self.general_hypothesis = []\n",
    "        self.version_space = []\n",
    "        \n",
    "    def fit(self, X, y):\n",
    "        count, count1 = 0, 0\n",
    "        self.Xtrain, self.ytrain = X, y\n",
    "        for i, val in enumerate(y):\n",
    "            if val==1:\n",
    "                S_hypothesis = list(X[0].copy())\n",
    "                G_hypothesis = [['?' for _ in range(len(S_hypothesis))]]\n",
    "                print(\"Initial Specific Hypothesis : \", S_hypothesis)\n",
    "                print(\"Initial General Hypothesis : \", G_hypothesis)\n",
    "                break\n",
    "        for i, val in enumerate(X):\n",
    "            if y[i]==1:\n",
    "                count+=1\n",
    "                for x in range(len(S_hypothesis)):\n",
    "                    #print(G_hypothesis)\n",
    "                    if val[x] == S_hypothesis[x]:\n",
    "                        pass\n",
    "                    else:\n",
    "                        S_hypothesis[x] = '?'\n",
    "                        temp = ['?' for _ in range(len(S_hypothesis))]\n",
    "                        temp[x] = val[x]\n",
    "                        #print(temp)\n",
    "                        if temp not in G_hypothesis:\n",
    "                            pass\n",
    "                        else:\n",
    "                            G_hypothesis.remove(temp)\n",
    "                            #print(\"Removed\")\n",
    "            elif y[i]==0:\n",
    "                count1+=1\n",
    "                temp = []\n",
    "                for x in range(len(S_hypothesis)):\n",
    "                    if val[x] != S_hypothesis[x] and S_hypothesis[x] != '?':\n",
    "                        temp = ['?' for _ in range(len(S_hypothesis))]\n",
    "                        temp[x] = S_hypothesis[x]\n",
    "                        if temp not in G_hypothesis:\n",
    "                            G_hypothesis.append(temp)\n",
    "                        temp = []\n",
    "                        \n",
    "        if len(G_hypothesis)==1:\n",
    "            v1 = [S_hypothesis]\n",
    "        else:\n",
    "            v1 = []\n",
    "            for i in G_hypothesis:\n",
    "                for j in range(len(i)):\n",
    "                    if i[j] != '?':\n",
    "                        h = i[j]\n",
    "                        for z in range(len(S_hypothesis)):\n",
    "                            if S_hypothesis[z] != '?':\n",
    "                                temp = ['?' for _ in range(len(S_hypothesis))]\n",
    "                                temp[z] = S_hypothesis[z]\n",
    "                                temp[j] = i[j]\n",
    "                                v1.append(temp)\n",
    "                                \n",
    "        print('Final Specific Hypothesis : ', S_hypothesis)\n",
    "        print('Final General Hypothesis : ', G_hypothesis)\n",
    "        print('Final Version Space : ', v1)\n",
    "        print(count, \" \", count1)\n",
    "        self.specific_hypothesis, self.general_hypothesis = S_hypothesis, G_hypothesis\n",
    "        self.version_space = v1\n",
    "        return 1\n",
    "    \n",
    "    def predict(self, X):\n",
    "        y = np.array([0 for i in range(len(X))])\n",
    "        self.Xtest = X\n",
    "        for i, val in enumerate(X):\n",
    "            val = list(val)\n",
    "            check = 0\n",
    "            for x in range(len(val)):\n",
    "                for z in self.version_space:\n",
    "                    if val[x] == z[x]:\n",
    "                        check+=1\n",
    "                    else:\n",
    "                        pass\n",
    "            if check>0:\n",
    "                y[i] = 1\n",
    "            else:\n",
    "                y[i] = 0\n",
    "        self.ytest = y\n",
    "        return y"
   ]
  },
  {
   "cell_type": "markdown",
   "metadata": {},
   "source": [
    "### Fitting the Training Set to the Model"
   ]
  },
  {
   "cell_type": "code",
   "execution_count": 15,
   "metadata": {},
   "outputs": [
    {
     "name": "stdout",
     "output_type": "stream",
     "text": [
      "Initial Specific Hypothesis :  ['Maharashtra', 'Sunny', 'Young', 'Under-weight', 'Weak']\n",
      "Initial General Hypothesis :  [['?', '?', '?', '?', '?']]\n",
      "Final Specific Hypothesis :  ['?', 'Sunny', '?', 'Under-weight', '?']\n",
      "Final General Hypothesis :  [['?', '?', '?', '?', '?']]\n",
      "Final Version Space :  [['?', 'Sunny', '?', 'Under-weight', '?']]\n",
      "180   180\n"
     ]
    },
    {
     "data": {
      "text/plain": [
       "1"
      ]
     },
     "execution_count": 15,
     "metadata": {},
     "output_type": "execute_result"
    }
   ],
   "source": [
    "from CandidateEliminationAlgorithm import Candidate_Elimination\n",
    "ce = Candidate_Elimination()\n",
    "ce.fit(X_train, y_train)"
   ]
  },
  {
   "cell_type": "markdown",
   "metadata": {},
   "source": [
    "### Predicting the Test Set Results"
   ]
  },
  {
   "cell_type": "code",
   "execution_count": 16,
   "metadata": {},
   "outputs": [],
   "source": [
    "y_pred = ce.predict(X_test)\n",
    "y_pred1 = ce.predict(X_train)"
   ]
  },
  {
   "cell_type": "code",
   "execution_count": 17,
   "metadata": {},
   "outputs": [
    {
     "name": "stdout",
     "output_type": "stream",
     "text": [
      "[1 1 1 1 1 1 1 1 1 1 1 1 1 1 1 1 1 1 1 1 1 1 1 1 1 1 1 1 1 1 0 0 0 0 0 0 0\n",
      " 0 0 0]\n"
     ]
    }
   ],
   "source": [
    "print(y_pred)"
   ]
  },
  {
   "cell_type": "markdown",
   "metadata": {},
   "source": [
    "### Finding the Average Precision Score"
   ]
  },
  {
   "cell_type": "code",
   "execution_count": 18,
   "metadata": {},
   "outputs": [
    {
     "name": "stdout",
     "output_type": "stream",
     "text": [
      "Average Precision Score (Training Data) :  0.5\n",
      "Average Precision Score (Test Data) :  0.33809523809523806\n"
     ]
    }
   ],
   "source": [
    "from sklearn.metrics import accuracy_score, average_precision_score, f1_score\n",
    "\n",
    "Avg1 = average_precision_score(y_train, y_pred1, average='micro', pos_label=1)\n",
    "Avg2 = average_precision_score(y_test, y_pred, average='micro', pos_label=1)\n",
    "\n",
    "print(\"Average Precision Score (Training Data) : \", Avg1)\n",
    "print(\"Average Precision Score (Test Data) : \", Avg2)"
   ]
  },
  {
   "cell_type": "markdown",
   "metadata": {},
   "source": [
    "### Finding the F-1 Score"
   ]
  },
  {
   "cell_type": "code",
   "execution_count": 19,
   "metadata": {},
   "outputs": [
    {
     "name": "stdout",
     "output_type": "stream",
     "text": [
      "F-1 Score (Training Data) :  0.6666666666666666\n",
      "F-1 Score (Test Data) :  0.4545454545454545\n"
     ]
    }
   ],
   "source": [
    "FS1 = f1_score(y_train, y_pred1, average='binary', pos_label=1)\n",
    "FS2 = f1_score(y_test, y_pred, average='binary', pos_label=1)\n",
    "\n",
    "print(\"F-1 Score (Training Data) : \", FS1)\n",
    "print(\"F-1 Score (Test Data) : \", FS2)"
   ]
  },
  {
   "cell_type": "markdown",
   "metadata": {},
   "source": [
    "### Plotting the Area Under the Curve"
   ]
  },
  {
   "cell_type": "code",
   "execution_count": 20,
   "metadata": {},
   "outputs": [
    {
     "name": "stdout",
     "output_type": "stream",
     "text": [
      "Area under the Curve :  0.4725274725274725\n"
     ]
    }
   ],
   "source": [
    "from sklearn import metrics\n",
    "fpr, tpr, thresholds = metrics.roc_curve(y_test, y_pred, pos_label=1)\n",
    "auc = metrics.auc(fpr, tpr)\n",
    "print(\"Area under the Curve : \", auc)"
   ]
  },
  {
   "cell_type": "code",
   "execution_count": 21,
   "metadata": {},
   "outputs": [
    {
     "name": "stdout",
     "output_type": "stream",
     "text": [
      "No Skill: ROC AUC=0.500\n",
      "Logistic: ROC AUC=0.473\n"
     ]
    },
    {
     "data": {
      "image/png": "[encoded data removed]",
      "text/plain": [
       "<Figure size 432x288 with 1 Axes>"
      ]
     },
     "metadata": {
      "needs_background": "light"
     },
     "output_type": "display_data"
    }
   ],
   "source": [
    "from sklearn.metrics import roc_auc_score, roc_curve\n",
    "ns_probs = [0 for _ in range(len(y_test))]\n",
    "lr_probs = y_pred\n",
    "\n",
    "ns_auc = roc_auc_score(y_test, ns_probs)\n",
    "lr_auc = roc_auc_score(y_test, lr_probs)\n",
    "\n",
    "print('No Skill: ROC AUC=%.3f' % (ns_auc))\n",
    "print('Logistic: ROC AUC=%.3f' % (lr_auc))\n",
    "\n",
    "ns_fpr, ns_tpr, _ = roc_curve(y_test, ns_probs)\n",
    "lr_fpr, lr_tpr, _ = roc_curve(y_test, lr_probs)\n",
    "\n",
    "plt.plot(ns_fpr, ns_tpr, linestyle='--', label='No Skill')\n",
    "plt.plot(lr_fpr, lr_tpr, marker='.', label='Logistic')\n",
    "plt.xlabel('False Positive Rate')\n",
    "plt.ylabel('True Positive Rate')\n",
    "plt.legend()\n",
    "plt.show()"
   ]
  },
  {
   "cell_type": "code",
   "execution_count": null,
   "metadata": {},
   "outputs": [],
   "source": []
  }
 ],
 "metadata": {
  "kernelspec": {
   "display_name": "Python 3",
   "language": "python",
   "name": "python3"
  },
  "language_info": {
   "codemirror_mode": {
    "name": "ipython",
    "version": 3
   },
   "file_extension": ".py",
   "mimetype": "text/x-python",
   "name": "python",
   "nbconvert_exporter": "python",
   "pygments_lexer": "ipython3",
   "version": "3.8.3"
  }
 },
 "nbformat": 4,
 "nbformat_minor": 4
}
