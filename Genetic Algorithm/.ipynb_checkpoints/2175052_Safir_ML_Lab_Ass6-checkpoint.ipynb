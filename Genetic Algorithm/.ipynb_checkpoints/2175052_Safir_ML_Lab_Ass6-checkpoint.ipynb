{
 "cells": [
  {
   "cell_type": "markdown",
   "metadata": {},
   "source": [
    "## ML Assignment 6\n",
    "\n",
    "### Team Members\n",
    "#### 1. Safir Motiwala - 2175052\n",
    "#### 2. Rajendra Kelwa - 2175048\n",
    "\n",
    "\n",
    "### Problem Statement:-\n",
    "Write an evolutionary (GA) algorithm that searches for the shortest route between N\n",
    "cities. Use an encoding method such that the chromosomes consist of lists of integers\n",
    "determining the indices of the cities. Examples of five-city paths starting in city 4 are e.g. (4,\n",
    "3, 1, 2, 5), (4, 1, 5, 2, 3), (4, 5, 1, 2, 3) etc. The first chromosome thus encodes the path 4 → 3\n",
    "→ 1 → 2 → 5 → 4. The fitness should be taken as the inverse of the route length (calculated\n",
    "using the ordinary cartesian distance measure and not the city-block distance measures). The\n",
    "program should always generate syntactically correct routes, i.e. routes in which each city is\n",
    "visited once and only once until, in the final step, the tour ends by a return to the starting city.\n",
    "Choose a suitable mutation operator for the TSP that maps valid chromosomes (i.e. paths)\n",
    "onto other valid chromosomes. Choose a suitable crossover operator for the TSP that maps\n",
    "valid chromosomes onto other valid chromosomes. Using these crossover and mutation\n",
    "operators, write an Evolutionary Algorithm that solves the Travelling Salesman Problem.\n",
    "Apply your program to the TSP data given in the file. This file contains a 50 × 2 matrix\n",
    "with the coordinates (x i , y i ) for city i = 1, . . . , 50. What is the shortest path between the\n",
    "cities and how long is it?\n",
    "File Link:- http://ml.informatik.uni-freiburg.de/former/_media/teaching/ss11/citydata.txt"
   ]
  },
  {
   "cell_type": "markdown",
   "metadata": {},
   "source": [
    "### Importing the libraries"
   ]
  },
  {
   "cell_type": "code",
   "execution_count": 1,
   "metadata": {},
   "outputs": [],
   "source": [
    "import numpy as np\n",
    "import random\n",
    "import operator\n",
    "import pandas as pd\n",
    "import matplotlib.pyplot as plt"
   ]
  },
  {
   "cell_type": "markdown",
   "metadata": {},
   "source": [
    "##### Create class to handle \"cities\""
   ]
  },
  {
   "cell_type": "code",
   "execution_count": 2,
   "metadata": {},
   "outputs": [],
   "source": [
    "class City:\n",
    "    def __init__(self, x, y):\n",
    "        self.x = x\n",
    "        self.y = y\n",
    "    \n",
    "    def distance(self, city):\n",
    "        xDis = abs(self.x - city.x)\n",
    "        yDis = abs(self.y - city.y)\n",
    "        distance = np.sqrt((xDis ** 2) + (yDis ** 2))\n",
    "        return distance\n",
    "    \n",
    "    def __repr__(self):\n",
    "        return \"(\" + str(self.x) + \",\" + str(self.y) + \")\""
   ]
  },
  {
   "cell_type": "markdown",
   "metadata": {},
   "source": [
    "##### Create a fitness function"
   ]
  },
  {
   "cell_type": "code",
   "execution_count": 3,
   "metadata": {},
   "outputs": [],
   "source": [
    "class Fitness:\n",
    "    def __init__(self, route):\n",
    "        self.route = route\n",
    "        self.distance = 0\n",
    "        self.fitness= 0.0\n",
    "    \n",
    "    def routeDistance(self):\n",
    "        if self.distance ==0:\n",
    "            pathDistance = 0\n",
    "            for i in range(0, len(self.route)):\n",
    "                fromCity = self.route[i]\n",
    "                toCity = None\n",
    "                if i + 1 < len(self.route):\n",
    "                    toCity = self.route[i + 1]\n",
    "                else:\n",
    "                    toCity = self.route[0]\n",
    "                pathDistance += fromCity.distance(toCity)\n",
    "            self.distance = pathDistance\n",
    "        return self.distance\n",
    "    \n",
    "    def routeFitness(self):\n",
    "        if self.fitness == 0:\n",
    "            self.fitness = 1 / float(self.routeDistance())\n",
    "        return self.fitness"
   ]
  },
  {
   "cell_type": "markdown",
   "metadata": {},
   "source": [
    "### Create our initial population\n",
    "##### Route generator"
   ]
  },
  {
   "cell_type": "code",
   "execution_count": 4,
   "metadata": {},
   "outputs": [],
   "source": [
    "def createRoute(cityList):\n",
    "    route = random.sample(cityList, len(cityList))\n",
    "    return route"
   ]
  },
  {
   "cell_type": "markdown",
   "metadata": {},
   "source": [
    "##### Create first \"population\" (list of routes)"
   ]
  },
  {
   "cell_type": "code",
   "execution_count": 5,
   "metadata": {},
   "outputs": [],
   "source": [
    "def initialPopulation(popSize, cityList):\n",
    "    population = []\n",
    "\n",
    "    for i in range(0, popSize):\n",
    "        population.append(createRoute(cityList))\n",
    "    return population"
   ]
  },
  {
   "cell_type": "markdown",
   "metadata": {},
   "source": [
    "### Create the genetic algorithm\n",
    "##### Rank individuals"
   ]
  },
  {
   "cell_type": "code",
   "execution_count": 6,
   "metadata": {},
   "outputs": [],
   "source": [
    "def rankRoutes(population):\n",
    "    fitnessResults = {}\n",
    "    for i in range(0,len(population)):\n",
    "        fitnessResults[i] = Fitness(population[i]).routeFitness()\n",
    "    return sorted(fitnessResults.items(), key = operator.itemgetter(1), reverse = True)"
   ]
  },
  {
   "cell_type": "markdown",
   "metadata": {},
   "source": [
    "##### Create a selection function that will be used to make the list of parent routes"
   ]
  },
  {
   "cell_type": "code",
   "execution_count": 7,
   "metadata": {},
   "outputs": [],
   "source": [
    "def selection(popRanked, eliteSize):\n",
    "    selectionResults = []\n",
    "    df = pd.DataFrame(np.array(popRanked), columns=[\"Index\",\"Fitness\"])\n",
    "    df['cum_sum'] = df.Fitness.cumsum()\n",
    "    df['cum_perc'] = 100*df.cum_sum/df.Fitness.sum()\n",
    "    \n",
    "    for i in range(0, eliteSize):\n",
    "        selectionResults.append(popRanked[i][0])\n",
    "    for i in range(0, len(popRanked) - eliteSize):\n",
    "        pick = 100*random.random()\n",
    "        for i in range(0, len(popRanked)):\n",
    "            if pick <= df.iat[i,3]:\n",
    "                selectionResults.append(popRanked[i][0])\n",
    "                break\n",
    "    return selectionResults"
   ]
  },
  {
   "cell_type": "markdown",
   "metadata": {},
   "source": [
    "##### Create mating pool"
   ]
  },
  {
   "cell_type": "code",
   "execution_count": 8,
   "metadata": {},
   "outputs": [],
   "source": [
    "def matingPool(population, selectionResults):\n",
    "    matingpool = []\n",
    "    for i in range(0, len(selectionResults)):\n",
    "        index = selectionResults[i]\n",
    "        matingpool.append(population[index])\n",
    "    return matingpool"
   ]
  },
  {
   "cell_type": "markdown",
   "metadata": {},
   "source": [
    "##### Create a crossover function for two parents to create one child"
   ]
  },
  {
   "cell_type": "code",
   "execution_count": 9,
   "metadata": {},
   "outputs": [],
   "source": [
    "def breed(parent1, parent2):\n",
    "    child = []\n",
    "    childP1 = []\n",
    "    childP2 = []\n",
    "    \n",
    "    geneA = int(random.random() * len(parent1))\n",
    "    geneB = int(random.random() * len(parent1))\n",
    "    \n",
    "    startGene = min(geneA, geneB)\n",
    "    endGene = max(geneA, geneB)\n",
    "\n",
    "    for i in range(startGene, endGene):\n",
    "        childP1.append(parent1[i])\n",
    "        \n",
    "    childP2 = [item for item in parent2 if item not in childP1]\n",
    "\n",
    "    child = childP1 + childP2\n",
    "    return child"
   ]
  },
  {
   "cell_type": "markdown",
   "metadata": {},
   "source": [
    "##### Create function to run crossover over full mating pool"
   ]
  },
  {
   "cell_type": "code",
   "execution_count": 10,
   "metadata": {},
   "outputs": [],
   "source": [
    "def breedPopulation(matingpool, eliteSize):\n",
    "    children = []\n",
    "    length = len(matingpool) - eliteSize\n",
    "    pool = random.sample(matingpool, len(matingpool))\n",
    "\n",
    "    for i in range(0,eliteSize):\n",
    "        children.append(matingpool[i])\n",
    "    \n",
    "    for i in range(0, length):\n",
    "        child = breed(pool[i], pool[len(matingpool)-i-1])\n",
    "        children.append(child)\n",
    "    return children"
   ]
  },
  {
   "cell_type": "markdown",
   "metadata": {},
   "source": [
    "##### Create function to mutate a single route"
   ]
  },
  {
   "cell_type": "code",
   "execution_count": 11,
   "metadata": {},
   "outputs": [],
   "source": [
    "def mutate(individual, mutationRate):\n",
    "    for swapped in range(len(individual)):\n",
    "        if(random.random() < mutationRate):\n",
    "            swapWith = int(random.random() * len(individual))\n",
    "            \n",
    "            city1 = individual[swapped]\n",
    "            city2 = individual[swapWith]\n",
    "            \n",
    "            individual[swapped] = city2\n",
    "            individual[swapWith] = city1\n",
    "    return individual\n"
   ]
  },
  {
   "cell_type": "markdown",
   "metadata": {},
   "source": [
    "##### Create function to run mutation over entire population"
   ]
  },
  {
   "cell_type": "code",
   "execution_count": 12,
   "metadata": {},
   "outputs": [],
   "source": [
    "def mutatePopulation(population, mutationRate):\n",
    "    mutatedPop = []\n",
    "    \n",
    "    for ind in range(0, len(population)):\n",
    "        mutatedInd = mutate(population[ind], mutationRate)\n",
    "        mutatedPop.append(mutatedInd)\n",
    "    return mutatedPop"
   ]
  },
  {
   "cell_type": "markdown",
   "metadata": {},
   "source": [
    "##### Put all steps together to create the next generation"
   ]
  },
  {
   "cell_type": "code",
   "execution_count": 13,
   "metadata": {},
   "outputs": [],
   "source": [
    "def nextGeneration(currentGen, eliteSize, mutationRate):\n",
    "    popRanked = rankRoutes(currentGen)\n",
    "    selectionResults = selection(popRanked, eliteSize)\n",
    "    matingpool = matingPool(currentGen, selectionResults)\n",
    "    children = breedPopulation(matingpool, eliteSize)\n",
    "    nextGeneration = mutatePopulation(children, mutationRate)\n",
    "    return nextGeneration"
   ]
  },
  {
   "cell_type": "markdown",
   "metadata": {},
   "source": [
    "##### Final step: create the genetic algorithm"
   ]
  },
  {
   "cell_type": "code",
   "execution_count": 14,
   "metadata": {},
   "outputs": [],
   "source": [
    "def geneticAlgorithm(population, popSize, eliteSize, mutationRate, generations):\n",
    "    pop = initialPopulation(popSize, population)\n",
    "    print(\"Initial distance: \" + str(1 / rankRoutes(pop)[0][1]))\n",
    "    \n",
    "    for i in range(0, generations):\n",
    "        pop = nextGeneration(pop, eliteSize, mutationRate)\n",
    "    \n",
    "    print(\"Final distance: \" + str(1 / rankRoutes(pop)[0][1]))\n",
    "    bestRouteIndex = rankRoutes(pop)[0][0]\n",
    "    bestRoute = pop[bestRouteIndex]\n",
    "    return bestRoute"
   ]
  },
  {
   "cell_type": "markdown",
   "metadata": {},
   "source": [
    "### Running the genetic algorithm\n",
    "##### Fetch the city data from http://ml.informatik.uni-freiburg.de/former/_media/teaching/ss11/citydata.txt"
   ]
  },
  {
   "cell_type": "code",
   "execution_count": 15,
   "metadata": {},
   "outputs": [],
   "source": [
    "from urllib.request import urlopen\n",
    "\n",
    "cityList = []\n",
    "    \n",
    "citydata = urlopen(\"http://ml.informatik.uni-freiburg.de/former/_media/teaching/ss11/citydata.txt\")\n",
    "for line in citydata:\n",
    "    city_cords = str(line).split(\"   \")\n",
    "    x = float(city_cords[0].split(\"b'\")[1])\n",
    "    y = float(city_cords[1].split(\"\\\\\")[0])\n",
    "    cityList.append(City(x=x, y=y))"
   ]
  },
  {
   "cell_type": "code",
   "execution_count": 16,
   "metadata": {},
   "outputs": [
    {
     "data": {
      "text/plain": [
       "[(0.2554,18.2366),\n",
       " (0.4339,15.2476),\n",
       " (0.7377,8.3137),\n",
       " (1.1354,16.5638),\n",
       " (1.582,17.303),\n",
       " (2.0913,9.2924),\n",
       " (2.2631,17.3392),\n",
       " (2.6373,2.6425),\n",
       " (3.004,19.5712),\n",
       " (3.6684,14.8018),\n",
       " (3.863,13.7008),\n",
       " (4.2065,9.8224),\n",
       " (4.8353,2.0944),\n",
       " (4.9785,3.1596),\n",
       " (5.3754,17.6381),\n",
       " (5.9425,6.036),\n",
       " (6.1451,3.8132),\n",
       " (6.7782,11.0125),\n",
       " (6.9223,7.7819),\n",
       " (7.5691,0.9378),\n",
       " (7.819,13.1697),\n",
       " (8.3332,5.9161),\n",
       " (8.5872,7.8303),\n",
       " (9.1224,14.5889),\n",
       " (9.4076,9.7166),\n",
       " (9.7208,8.1154),\n",
       " (10.1662,19.1705),\n",
       " (10.7387,2.009),\n",
       " (10.9354,5.1813),\n",
       " (11.3707,7.2406),\n",
       " (11.7418,13.6874),\n",
       " (12.0526,4.7186),\n",
       " (12.6385,12.1),\n",
       " (13.095,13.6956),\n",
       " (13.3533,17.3524),\n",
       " (13.8794,3.9479),\n",
       " (14.2674,15.8651),\n",
       " (14.552,17.2489),\n",
       " (14.9737,13.2245),\n",
       " (15.2841,1.4455),\n",
       " (15.5761,12.127),\n",
       " (16.1313,14.2029),\n",
       " (16.4388,16.0084),\n",
       " (16.7821,9.4334),\n",
       " (17.3928,12.9692),\n",
       " (17.5139,6.4828),\n",
       " (17.9487,7.5563),\n",
       " (18.3958,19.5112),\n",
       " (18.9696,19.3565),\n",
       " (19.0928,16.5453)]"
      ]
     },
     "execution_count": 16,
     "metadata": {},
     "output_type": "execute_result"
    }
   ],
   "source": [
    "cityList"
   ]
  },
  {
   "cell_type": "markdown",
   "metadata": {},
   "source": [
    "##### Run the genetic algorithm"
   ]
  },
  {
   "cell_type": "code",
   "execution_count": 17,
   "metadata": {},
   "outputs": [
    {
     "name": "stdout",
     "output_type": "stream",
     "text": [
      "Initial distance: 437.2212070316968\n",
      "Final distance: 243.94082098308434\n"
     ]
    },
    {
     "data": {
      "text/plain": [
       "[(16.4388,16.0084),\n",
       " (17.3928,12.9692),\n",
       " (15.5761,12.127),\n",
       " (16.7821,9.4334),\n",
       " (7.819,13.1697),\n",
       " (9.4076,9.7166),\n",
       " (6.7782,11.0125),\n",
       " (0.7377,8.3137),\n",
       " (4.9785,3.1596),\n",
       " (4.8353,2.0944),\n",
       " (7.5691,0.9378),\n",
       " (10.7387,2.009),\n",
       " (12.0526,4.7186),\n",
       " (10.1662,19.1705),\n",
       " (13.3533,17.3524),\n",
       " (2.2631,17.3392),\n",
       " (0.4339,15.2476),\n",
       " (1.1354,16.5638),\n",
       " (1.582,17.303),\n",
       " (0.2554,18.2366),\n",
       " (3.863,13.7008),\n",
       " (2.0913,9.2924),\n",
       " (6.9223,7.7819),\n",
       " (2.6373,2.6425),\n",
       " (6.1451,3.8132),\n",
       " (5.9425,6.036),\n",
       " (4.2065,9.8224),\n",
       " (5.3754,17.6381),\n",
       " (3.004,19.5712),\n",
       " (3.6684,14.8018),\n",
       " (9.7208,8.1154),\n",
       " (8.3332,5.9161),\n",
       " (13.8794,3.9479),\n",
       " (15.2841,1.4455),\n",
       " (11.3707,7.2406),\n",
       " (8.5872,7.8303),\n",
       " (17.9487,7.5563),\n",
       " (16.1313,14.2029),\n",
       " (19.0928,16.5453),\n",
       " (14.9737,13.2245),\n",
       " (18.3958,19.5112),\n",
       " (18.9696,19.3565),\n",
       " (14.552,17.2489),\n",
       " (11.7418,13.6874),\n",
       " (9.1224,14.5889),\n",
       " (12.6385,12.1),\n",
       " (13.095,13.6956),\n",
       " (14.2674,15.8651),\n",
       " (10.9354,5.1813),\n",
       " (17.5139,6.4828)]"
      ]
     },
     "execution_count": 17,
     "metadata": {},
     "output_type": "execute_result"
    }
   ],
   "source": [
    "geneticAlgorithm(population=cityList, popSize=100, eliteSize=20, mutationRate=0.01, generations=500)"
   ]
  },
  {
   "cell_type": "markdown",
   "metadata": {},
   "source": [
    "### Plot the progress"
   ]
  },
  {
   "cell_type": "code",
   "execution_count": 18,
   "metadata": {},
   "outputs": [],
   "source": [
    "def geneticAlgorithmPlot(population, popSize, eliteSize, mutationRate, generations):\n",
    "    pop = initialPopulation(popSize, population)\n",
    "    progress = []\n",
    "    progress.append(1 / rankRoutes(pop)[0][1])\n",
    "    \n",
    "    for i in range(0, generations):\n",
    "        pop = nextGeneration(pop, eliteSize, mutationRate)\n",
    "        progress.append(1 / rankRoutes(pop)[0][1])\n",
    "    \n",
    "    plt.plot(progress)\n",
    "    plt.ylabel('Distance')\n",
    "    plt.xlabel('Generation')\n",
    "    plt.show()"
   ]
  },
  {
   "cell_type": "code",
   "execution_count": 19,
   "metadata": {},
   "outputs": [
    {
     "data": {
      "image/png": "[encoded data removed]",
      "text/plain": [
       "<Figure size 432x288 with 1 Axes>"
      ]
     },
     "metadata": {
      "needs_background": "light"
     },
     "output_type": "display_data"
    }
   ],
   "source": [
    "geneticAlgorithmPlot(population=cityList, popSize=100, eliteSize=20, mutationRate=0.01, generations=500)"
   ]
  }
 ],
 "metadata": {
  "kernelspec": {
   "display_name": "Python 3",
   "language": "python",
   "name": "python3"
  },
  "language_info": {
   "codemirror_mode": {
    "name": "ipython",
    "version": 3
   },
   "file_extension": ".py",
   "mimetype": "text/x-python",
   "name": "python",
   "nbconvert_exporter": "python",
   "pygments_lexer": "ipython3",
   "version": "3.8.3"
  }
 },
 "nbformat": 4,
 "nbformat_minor": 4
}
