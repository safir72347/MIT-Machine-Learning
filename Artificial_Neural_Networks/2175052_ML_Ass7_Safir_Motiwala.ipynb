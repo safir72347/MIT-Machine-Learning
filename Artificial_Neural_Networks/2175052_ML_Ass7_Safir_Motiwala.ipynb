{
 "cells": [
  {
   "cell_type": "markdown",
   "metadata": {
    "colab_type": "text",
    "id": "lP6JLo1tGNBg"
   },
   "source": [
    "# ML Assignment 7\n",
    "\n",
    "### Name : Safir Motiwala\n",
    "\n",
    "#### Build a Multi-Layer Artificial Neural Network with backpropagation algorithm in Python using Tensorflow on any real-world non-linear dataset and test the model. Apply cross-validation approach for obtaining model accuracy."
   ]
  },
  {
   "cell_type": "markdown",
   "metadata": {
    "colab_type": "text",
    "id": "gWZyYmS_UE_L"
   },
   "source": [
    "### Importing the libraries"
   ]
  },
  {
   "cell_type": "code",
   "execution_count": 79,
   "metadata": {
    "colab": {},
    "colab_type": "code",
    "id": "MxkJoQBkUIHC"
   },
   "outputs": [],
   "source": [
    "import numpy as np\n",
    "import pandas as pd\n",
    "from sklearn.preprocessing import LabelEncoder\n",
    "from sklearn.compose import ColumnTransformer\n",
    "from sklearn.preprocessing import OneHotEncoder\n",
    "from sklearn.preprocessing import StandardScaler\n",
    "from sklearn.model_selection import KFold\n",
    "from sklearn.metrics import confusion_matrix\n",
    "from sklearn.model_selection import cross_val_score\n",
    "import tensorflow as tf\n",
    "from tensorflow.keras.models import Sequential\n",
    "from tensorflow.keras.layers import Dense\n",
    "from tensorflow.keras.wrappers.scikit_learn import KerasClassifier"
   ]
  },
  {
   "cell_type": "code",
   "execution_count": 80,
   "metadata": {
    "colab": {
     "base_uri": "https://localhost:8080/",
     "height": 34
    },
    "colab_type": "code",
    "executionInfo": {
     "elapsed": 2787,
     "status": "ok",
     "timestamp": 1586428376540,
     "user": {
      "displayName": "Hadelin de Ponteves",
      "photoUrl": "https://lh3.googleusercontent.com/a-/AOh14GhEuXdT7eQweUmRPW8_laJuPggSK6hfvpl5a6WBaA=s64",
      "userId": "15047218817161520419"
     },
     "user_tz": -240
    },
    "id": "ZaTwK7ojXr2F",
    "outputId": "9991cc2b-cd5d-4e1e-c681-d32b9f4faa9a"
   },
   "outputs": [
    {
     "data": {
      "text/plain": [
       "'2.3.0'"
      ]
     },
     "execution_count": 80,
     "metadata": {},
     "output_type": "execute_result"
    }
   ],
   "source": [
    "tf.__version__"
   ]
  },
  {
   "cell_type": "markdown",
   "metadata": {
    "colab_type": "text",
    "id": "cKWAkFVGUU0Z"
   },
   "source": [
    "### Importing the dataset"
   ]
  },
  {
   "cell_type": "code",
   "execution_count": 81,
   "metadata": {
    "colab": {},
    "colab_type": "code",
    "id": "MXUkhkMfU4wq"
   },
   "outputs": [],
   "source": [
    "dataset = pd.read_csv('Churn_Modelling.csv')\n",
    "X = dataset.iloc[:, 3:-1].values\n",
    "y = dataset.iloc[:, -1].values"
   ]
  },
  {
   "cell_type": "code",
   "execution_count": 82,
   "metadata": {
    "colab": {
     "base_uri": "https://localhost:8080/",
     "height": 134
    },
    "colab_type": "code",
    "executionInfo": {
     "elapsed": 2782,
     "status": "ok",
     "timestamp": 1586428376541,
     "user": {
      "displayName": "Hadelin de Ponteves",
      "photoUrl": "https://lh3.googleusercontent.com/a-/AOh14GhEuXdT7eQweUmRPW8_laJuPggSK6hfvpl5a6WBaA=s64",
      "userId": "15047218817161520419"
     },
     "user_tz": -240
    },
    "id": "VYP9cQTWbzuI",
    "outputId": "38e3588f-f2e3-436b-bdc5-2967d495155c"
   },
   "outputs": [
    {
     "name": "stdout",
     "output_type": "stream",
     "text": [
      "[[619 'France' 'Female' ... 1 1 101348.88]\n",
      " [608 'Spain' 'Female' ... 0 1 112542.58]\n",
      " [502 'France' 'Female' ... 1 0 113931.57]\n",
      " ...\n",
      " [709 'France' 'Female' ... 0 1 42085.58]\n",
      " [772 'Germany' 'Male' ... 1 0 92888.52]\n",
      " [792 'France' 'Female' ... 1 0 38190.78]]\n"
     ]
    }
   ],
   "source": [
    "print(X)"
   ]
  },
  {
   "cell_type": "code",
   "execution_count": 83,
   "metadata": {
    "colab": {
     "base_uri": "https://localhost:8080/",
     "height": 34
    },
    "colab_type": "code",
    "executionInfo": {
     "elapsed": 2780,
     "status": "ok",
     "timestamp": 1586428376541,
     "user": {
      "displayName": "Hadelin de Ponteves",
      "photoUrl": "https://lh3.googleusercontent.com/a-/AOh14GhEuXdT7eQweUmRPW8_laJuPggSK6hfvpl5a6WBaA=s64",
      "userId": "15047218817161520419"
     },
     "user_tz": -240
    },
    "id": "38vKGE6Nb2RR",
    "outputId": "2abeb945-135e-460f-99e9-9967abe198d1"
   },
   "outputs": [
    {
     "name": "stdout",
     "output_type": "stream",
     "text": [
      "[1 0 1 ... 1 1 0]\n"
     ]
    }
   ],
   "source": [
    "print(y)"
   ]
  },
  {
   "cell_type": "markdown",
   "metadata": {
    "colab_type": "text",
    "id": "N6bQ0UgSU-NJ"
   },
   "source": [
    "### Encoding categorical data"
   ]
  },
  {
   "cell_type": "markdown",
   "metadata": {
    "colab_type": "text",
    "id": "le5MJreAbW52"
   },
   "source": [
    "Label Encoding the \"Gender\" column"
   ]
  },
  {
   "cell_type": "code",
   "execution_count": 84,
   "metadata": {
    "colab": {},
    "colab_type": "code",
    "id": "PxVKWXxLbczC"
   },
   "outputs": [],
   "source": [
    "le = LabelEncoder()\n",
    "X[:, 2] = le.fit_transform(X[:, 2])"
   ]
  },
  {
   "cell_type": "code",
   "execution_count": 85,
   "metadata": {
    "colab": {
     "base_uri": "https://localhost:8080/",
     "height": 134
    },
    "colab_type": "code",
    "executionInfo": {
     "elapsed": 2775,
     "status": "ok",
     "timestamp": 1586428376542,
     "user": {
      "displayName": "Hadelin de Ponteves",
      "photoUrl": "https://lh3.googleusercontent.com/a-/AOh14GhEuXdT7eQweUmRPW8_laJuPggSK6hfvpl5a6WBaA=s64",
      "userId": "15047218817161520419"
     },
     "user_tz": -240
    },
    "id": "-M1KboxFb6OO",
    "outputId": "c7b742e2-7afb-4fb9-c6b4-ffeb3c4812f1"
   },
   "outputs": [
    {
     "name": "stdout",
     "output_type": "stream",
     "text": [
      "[[619 'France' 0 ... 1 1 101348.88]\n",
      " [608 'Spain' 0 ... 0 1 112542.58]\n",
      " [502 'France' 0 ... 1 0 113931.57]\n",
      " ...\n",
      " [709 'France' 0 ... 0 1 42085.58]\n",
      " [772 'Germany' 1 ... 1 0 92888.52]\n",
      " [792 'France' 0 ... 1 0 38190.78]]\n"
     ]
    }
   ],
   "source": [
    "print(X)"
   ]
  },
  {
   "cell_type": "markdown",
   "metadata": {
    "colab_type": "text",
    "id": "CUxGZezpbMcb"
   },
   "source": [
    "One Hot Encoding the \"Geography\" column"
   ]
  },
  {
   "cell_type": "code",
   "execution_count": 86,
   "metadata": {
    "colab": {},
    "colab_type": "code",
    "id": "AMXC8-KMVirw"
   },
   "outputs": [],
   "source": [
    "ct = ColumnTransformer(transformers=[('encoder', OneHotEncoder(), [1])], remainder='passthrough')\n",
    "X = np.array(ct.fit_transform(X))"
   ]
  },
  {
   "cell_type": "code",
   "execution_count": 87,
   "metadata": {
    "colab": {
     "base_uri": "https://localhost:8080/",
     "height": 134
    },
    "colab_type": "code",
    "executionInfo": {
     "elapsed": 2768,
     "status": "ok",
     "timestamp": 1586428376543,
     "user": {
      "displayName": "Hadelin de Ponteves",
      "photoUrl": "https://lh3.googleusercontent.com/a-/AOh14GhEuXdT7eQweUmRPW8_laJuPggSK6hfvpl5a6WBaA=s64",
      "userId": "15047218817161520419"
     },
     "user_tz": -240
    },
    "id": "ZcxwEon-b8nV",
    "outputId": "9c88c069-f799-4e3b-be4b-24d8e17611fd"
   },
   "outputs": [
    {
     "name": "stdout",
     "output_type": "stream",
     "text": [
      "[[1.0 0.0 0.0 ... 1 1 101348.88]\n",
      " [0.0 0.0 1.0 ... 0 1 112542.58]\n",
      " [1.0 0.0 0.0 ... 1 0 113931.57]\n",
      " ...\n",
      " [1.0 0.0 0.0 ... 0 1 42085.58]\n",
      " [0.0 1.0 0.0 ... 1 0 92888.52]\n",
      " [1.0 0.0 0.0 ... 1 0 38190.78]]\n"
     ]
    }
   ],
   "source": [
    "print(X)"
   ]
  },
  {
   "cell_type": "markdown",
   "metadata": {
    "colab_type": "text",
    "id": "RE_FcHyfV3TQ"
   },
   "source": [
    "### Feature Scaling"
   ]
  },
  {
   "cell_type": "code",
   "execution_count": 88,
   "metadata": {
    "colab": {},
    "colab_type": "code",
    "id": "ViCrE00rV8Sk"
   },
   "outputs": [],
   "source": [
    "sc = StandardScaler()\n",
    "X = sc.fit_transform(X)"
   ]
  },
  {
   "cell_type": "code",
   "execution_count": 89,
   "metadata": {
    "colab": {
     "base_uri": "https://localhost:8080/",
     "height": 235
    },
    "colab_type": "code",
    "executionInfo": {
     "elapsed": 2760,
     "status": "ok",
     "timestamp": 1586428376544,
     "user": {
      "displayName": "Hadelin de Ponteves",
      "photoUrl": "https://lh3.googleusercontent.com/a-/AOh14GhEuXdT7eQweUmRPW8_laJuPggSK6hfvpl5a6WBaA=s64",
      "userId": "15047218817161520419"
     },
     "user_tz": -240
    },
    "id": "De3UsJwXdfMz",
    "outputId": "dde0e114-7250-42b5-d54d-047faebba5e1"
   },
   "outputs": [
    {
     "name": "stdout",
     "output_type": "stream",
     "text": [
      "[[ 0.99720391 -0.57873591 -0.57380915 ...  0.64609167  0.97024255\n",
      "   0.02188649]\n",
      " [-1.00280393 -0.57873591  1.74273971 ... -1.54776799  0.97024255\n",
      "   0.21653375]\n",
      " [ 0.99720391 -0.57873591 -0.57380915 ...  0.64609167 -1.03067011\n",
      "   0.2406869 ]\n",
      " ...\n",
      " [ 0.99720391 -0.57873591 -0.57380915 ... -1.54776799  0.97024255\n",
      "  -1.00864308]\n",
      " [-1.00280393  1.72790383 -0.57380915 ...  0.64609167 -1.03067011\n",
      "  -0.12523071]\n",
      " [ 0.99720391 -0.57873591 -0.57380915 ...  0.64609167 -1.03067011\n",
      "  -1.07636976]]\n"
     ]
    }
   ],
   "source": [
    "print(X)"
   ]
  },
  {
   "cell_type": "markdown",
   "metadata": {
    "colab_type": "text",
    "id": "vHol938cW8zd"
   },
   "source": [
    "### Splitting the dataset into the Training set and Test set"
   ]
  },
  {
   "cell_type": "code",
   "execution_count": 90,
   "metadata": {
    "colab": {},
    "colab_type": "code",
    "id": "Z-TDt0Y_XEfc"
   },
   "outputs": [],
   "source": [
    "kf = KFold(n_splits=5)\n",
    "#print(kf.get_n_splits(X))\n",
    "\n",
    "for train_index, test_index in kf.split(X,y):\n",
    "    X_train, X_test = X[train_index], X[test_index]\n",
    "    y_train, y_test = y[train_index], y[test_index]"
   ]
  },
  {
   "cell_type": "markdown",
   "metadata": {
    "colab_type": "text",
    "id": "-zfEzkRVXIwF"
   },
   "source": [
    "### Building the ANN"
   ]
  },
  {
   "cell_type": "markdown",
   "metadata": {
    "colab_type": "text",
    "id": "KvdeScabXtlB"
   },
   "source": [
    "### Initializing the ANN"
   ]
  },
  {
   "cell_type": "code",
   "execution_count": 91,
   "metadata": {
    "colab": {},
    "colab_type": "code",
    "id": "3dtrScHxXQox"
   },
   "outputs": [],
   "source": [
    "ann = Sequential()"
   ]
  },
  {
   "cell_type": "markdown",
   "metadata": {
    "colab_type": "text",
    "id": "rP6urV6SX7kS"
   },
   "source": [
    "### Adding the input layer and the first hidden layer"
   ]
  },
  {
   "cell_type": "code",
   "execution_count": 92,
   "metadata": {
    "colab": {},
    "colab_type": "code",
    "id": "bppGycBXYCQr"
   },
   "outputs": [],
   "source": [
    "ann.add(Dense(units=6, activation='relu'))"
   ]
  },
  {
   "cell_type": "markdown",
   "metadata": {
    "colab_type": "text",
    "id": "BELWAc_8YJze"
   },
   "source": [
    "### Adding the second hidden layer"
   ]
  },
  {
   "cell_type": "code",
   "execution_count": 93,
   "metadata": {
    "colab": {},
    "colab_type": "code",
    "id": "JneR0u0sYRTd"
   },
   "outputs": [],
   "source": [
    "ann.add(Dense(units=6, activation='relu'))"
   ]
  },
  {
   "cell_type": "markdown",
   "metadata": {
    "colab_type": "text",
    "id": "OyNEe6RXYcU4"
   },
   "source": [
    "### Adding the output layer"
   ]
  },
  {
   "cell_type": "code",
   "execution_count": 94,
   "metadata": {
    "colab": {},
    "colab_type": "code",
    "id": "Cn3x41RBYfvY"
   },
   "outputs": [],
   "source": [
    "ann.add(Dense(units=1, activation='sigmoid'))"
   ]
  },
  {
   "cell_type": "markdown",
   "metadata": {
    "colab_type": "text",
    "id": "JT4u2S1_Y4WG"
   },
   "source": [
    "## Training the ANN"
   ]
  },
  {
   "cell_type": "markdown",
   "metadata": {
    "colab_type": "text",
    "id": "8GWlJChhY_ZI"
   },
   "source": [
    "### Compiling the ANN"
   ]
  },
  {
   "cell_type": "code",
   "execution_count": 95,
   "metadata": {
    "colab": {},
    "colab_type": "code",
    "id": "fG3RrwDXZEaS"
   },
   "outputs": [],
   "source": [
    "ann.compile(optimizer = 'adam', loss = 'binary_crossentropy', metrics = ['accuracy'])"
   ]
  },
  {
   "cell_type": "markdown",
   "metadata": {
    "colab_type": "text",
    "id": "0QR_G5u7ZLSM"
   },
   "source": [
    "### Training the ANN on the Training set"
   ]
  },
  {
   "cell_type": "code",
   "execution_count": 96,
   "metadata": {
    "colab": {
     "base_uri": "https://localhost:8080/",
     "height": 1000
    },
    "colab_type": "code",
    "executionInfo": {
     "elapsed": 31750,
     "status": "ok",
     "timestamp": 1586428405580,
     "user": {
      "displayName": "Hadelin de Ponteves",
      "photoUrl": "https://lh3.googleusercontent.com/a-/AOh14GhEuXdT7eQweUmRPW8_laJuPggSK6hfvpl5a6WBaA=s64",
      "userId": "15047218817161520419"
     },
     "user_tz": -240
    },
    "id": "nHZ-LKv_ZRb3",
    "outputId": "6a90f176-803d-4b03-e65f-c05bda6f519c"
   },
   "outputs": [
    {
     "name": "stdout",
     "output_type": "stream",
     "text": [
      "Epoch 1/100\n",
      "250/250 [==============================] - 0s 725us/step - loss: 0.5238 - accuracy: 0.7929\n",
      "Epoch 2/100\n",
      "250/250 [==============================] - 0s 783us/step - loss: 0.4597 - accuracy: 0.7941\n",
      "Epoch 3/100\n",
      "250/250 [==============================] - 0s 770us/step - loss: 0.4371 - accuracy: 0.7941\n",
      "Epoch 4/100\n",
      "250/250 [==============================] - 0s 777us/step - loss: 0.4262 - accuracy: 0.7941\n",
      "Epoch 5/100\n",
      "250/250 [==============================] - 0s 771us/step - loss: 0.4191 - accuracy: 0.7941\n",
      "Epoch 6/100\n",
      "250/250 [==============================] - 0s 774us/step - loss: 0.4145 - accuracy: 0.7968\n",
      "Epoch 7/100\n",
      "250/250 [==============================] - 0s 761us/step - loss: 0.4102 - accuracy: 0.8023\n",
      "Epoch 8/100\n",
      "250/250 [==============================] - 0s 868us/step - loss: 0.4063 - accuracy: 0.8115\n",
      "Epoch 9/100\n",
      "250/250 [==============================] - 0s 1ms/step - loss: 0.4022 - accuracy: 0.8159\n",
      "Epoch 10/100\n",
      "250/250 [==============================] - 0s 905us/step - loss: 0.3985 - accuracy: 0.8210\n",
      "Epoch 11/100\n",
      "250/250 [==============================] - 0s 764us/step - loss: 0.3953 - accuracy: 0.8194\n",
      "Epoch 12/100\n",
      "250/250 [==============================] - 0s 783us/step - loss: 0.3924 - accuracy: 0.8211\n",
      "Epoch 13/100\n",
      "250/250 [==============================] - 0s 765us/step - loss: 0.3894 - accuracy: 0.8235\n",
      "Epoch 14/100\n",
      "250/250 [==============================] - 0s 791us/step - loss: 0.3856 - accuracy: 0.8295\n",
      "Epoch 15/100\n",
      "250/250 [==============================] - 0s 753us/step - loss: 0.3830 - accuracy: 0.8330\n",
      "Epoch 16/100\n",
      "250/250 [==============================] - 0s 766us/step - loss: 0.3796 - accuracy: 0.8349\n",
      "Epoch 17/100\n",
      "250/250 [==============================] - 0s 814us/step - loss: 0.3765 - accuracy: 0.8385\n",
      "Epoch 18/100\n",
      "250/250 [==============================] - 0s 772us/step - loss: 0.3742 - accuracy: 0.8415\n",
      "Epoch 19/100\n",
      "250/250 [==============================] - 0s 800us/step - loss: 0.3713 - accuracy: 0.8431\n",
      "Epoch 20/100\n",
      "250/250 [==============================] - 0s 790us/step - loss: 0.3691 - accuracy: 0.8461\n",
      "Epoch 21/100\n",
      "250/250 [==============================] - 0s 765us/step - loss: 0.3665 - accuracy: 0.8484\n",
      "Epoch 22/100\n",
      "250/250 [==============================] - 0s 807us/step - loss: 0.3643 - accuracy: 0.8508\n",
      "Epoch 23/100\n",
      "250/250 [==============================] - 0s 781us/step - loss: 0.3628 - accuracy: 0.8506\n",
      "Epoch 24/100\n",
      "250/250 [==============================] - 0s 782us/step - loss: 0.3610 - accuracy: 0.8543\n",
      "Epoch 25/100\n",
      "250/250 [==============================] - 0s 1ms/step - loss: 0.3591 - accuracy: 0.8536\n",
      "Epoch 26/100\n",
      "250/250 [==============================] - 0s 845us/step - loss: 0.3573 - accuracy: 0.8535\n",
      "Epoch 27/100\n",
      "250/250 [==============================] - 0s 786us/step - loss: 0.3561 - accuracy: 0.8539\n",
      "Epoch 28/100\n",
      "250/250 [==============================] - 0s 755us/step - loss: 0.3547 - accuracy: 0.8559\n",
      "Epoch 29/100\n",
      "250/250 [==============================] - 0s 739us/step - loss: 0.3532 - accuracy: 0.8580\n",
      "Epoch 30/100\n",
      "250/250 [==============================] - 0s 764us/step - loss: 0.3522 - accuracy: 0.8579\n",
      "Epoch 31/100\n",
      "250/250 [==============================] - 0s 741us/step - loss: 0.3512 - accuracy: 0.8589\n",
      "Epoch 32/100\n",
      "250/250 [==============================] - 0s 807us/step - loss: 0.3501 - accuracy: 0.8589\n",
      "Epoch 33/100\n",
      "250/250 [==============================] - 0s 781us/step - loss: 0.3490 - accuracy: 0.8591\n",
      "Epoch 34/100\n",
      "250/250 [==============================] - 0s 772us/step - loss: 0.3484 - accuracy: 0.8604\n",
      "Epoch 35/100\n",
      "250/250 [==============================] - 0s 775us/step - loss: 0.3477 - accuracy: 0.8610\n",
      "Epoch 36/100\n",
      "250/250 [==============================] - 0s 782us/step - loss: 0.3474 - accuracy: 0.8594\n",
      "Epoch 37/100\n",
      "250/250 [==============================] - 0s 819us/step - loss: 0.3467 - accuracy: 0.8612\n",
      "Epoch 38/100\n",
      "250/250 [==============================] - 0s 789us/step - loss: 0.3465 - accuracy: 0.8596\n",
      "Epoch 39/100\n",
      "250/250 [==============================] - 0s 788us/step - loss: 0.3460 - accuracy: 0.8622\n",
      "Epoch 40/100\n",
      "250/250 [==============================] - 0s 1ms/step - loss: 0.3454 - accuracy: 0.8593\n",
      "Epoch 41/100\n",
      "250/250 [==============================] - 0s 870us/step - loss: 0.3449 - accuracy: 0.8605\n",
      "Epoch 42/100\n",
      "250/250 [==============================] - 0s 864us/step - loss: 0.3446 - accuracy: 0.8619\n",
      "Epoch 43/100\n",
      "250/250 [==============================] - 0s 821us/step - loss: 0.3443 - accuracy: 0.8612\n",
      "Epoch 44/100\n",
      "250/250 [==============================] - 0s 768us/step - loss: 0.3438 - accuracy: 0.8621\n",
      "Epoch 45/100\n",
      "250/250 [==============================] - 0s 781us/step - loss: 0.3434 - accuracy: 0.8614\n",
      "Epoch 46/100\n",
      "250/250 [==============================] - 0s 789us/step - loss: 0.3434 - accuracy: 0.8614\n",
      "Epoch 47/100\n",
      "250/250 [==============================] - 0s 776us/step - loss: 0.3424 - accuracy: 0.8614\n",
      "Epoch 48/100\n",
      "250/250 [==============================] - 0s 1ms/step - loss: 0.3419 - accuracy: 0.8610\n",
      "Epoch 49/100\n",
      "250/250 [==============================] - 0s 864us/step - loss: 0.3417 - accuracy: 0.8615\n",
      "Epoch 50/100\n",
      "250/250 [==============================] - 0s 1ms/step - loss: 0.3419 - accuracy: 0.8619\n",
      "Epoch 51/100\n",
      "250/250 [==============================] - 0s 784us/step - loss: 0.3417 - accuracy: 0.8600\n",
      "Epoch 52/100\n",
      "250/250 [==============================] - 0s 774us/step - loss: 0.3409 - accuracy: 0.8601\n",
      "Epoch 53/100\n",
      "250/250 [==============================] - 0s 751us/step - loss: 0.3406 - accuracy: 0.8608\n",
      "Epoch 54/100\n",
      "250/250 [==============================] - 0s 747us/step - loss: 0.3406 - accuracy: 0.8616\n",
      "Epoch 55/100\n",
      "250/250 [==============================] - 0s 771us/step - loss: 0.3407 - accuracy: 0.8622\n",
      "Epoch 56/100\n",
      "250/250 [==============================] - 0s 735us/step - loss: 0.3405 - accuracy: 0.8611\n",
      "Epoch 57/100\n",
      "250/250 [==============================] - 0s 733us/step - loss: 0.3403 - accuracy: 0.8625\n",
      "Epoch 58/100\n",
      "250/250 [==============================] - 0s 726us/step - loss: 0.3405 - accuracy: 0.8618\n",
      "Epoch 59/100\n",
      "250/250 [==============================] - 0s 921us/step - loss: 0.3403 - accuracy: 0.8614\n",
      "Epoch 60/100\n",
      "250/250 [==============================] - 0s 1ms/step - loss: 0.3404 - accuracy: 0.8606\n",
      "Epoch 61/100\n",
      "250/250 [==============================] - 0s 1ms/step - loss: 0.3400 - accuracy: 0.8606\n",
      "Epoch 62/100\n",
      "250/250 [==============================] - 0s 741us/step - loss: 0.3395 - accuracy: 0.8630\n",
      "Epoch 63/100\n",
      "250/250 [==============================] - 0s 798us/step - loss: 0.3388 - accuracy: 0.8616\n",
      "Epoch 64/100\n",
      "250/250 [==============================] - 0s 755us/step - loss: 0.3390 - accuracy: 0.8608\n",
      "Epoch 65/100\n",
      "250/250 [==============================] - 0s 749us/step - loss: 0.3391 - accuracy: 0.8621\n",
      "Epoch 66/100\n",
      "250/250 [==============================] - 0s 810us/step - loss: 0.3385 - accuracy: 0.8611\n",
      "Epoch 67/100\n",
      "250/250 [==============================] - 0s 772us/step - loss: 0.3392 - accuracy: 0.8614\n",
      "Epoch 68/100\n",
      "250/250 [==============================] - 0s 757us/step - loss: 0.3386 - accuracy: 0.8624\n",
      "Epoch 69/100\n",
      "250/250 [==============================] - 0s 776us/step - loss: 0.3394 - accuracy: 0.8614\n",
      "Epoch 70/100\n",
      "250/250 [==============================] - 0s 734us/step - loss: 0.3385 - accuracy: 0.8621\n",
      "Epoch 71/100\n",
      "250/250 [==============================] - 0s 761us/step - loss: 0.3383 - accuracy: 0.8634\n",
      "Epoch 72/100\n",
      "250/250 [==============================] - 0s 776us/step - loss: 0.3381 - accuracy: 0.8629\n",
      "Epoch 73/100\n",
      "250/250 [==============================] - 0s 751us/step - loss: 0.3382 - accuracy: 0.8627\n",
      "Epoch 74/100\n",
      "250/250 [==============================] - 0s 746us/step - loss: 0.3376 - accuracy: 0.8637\n",
      "Epoch 75/100\n",
      "250/250 [==============================] - 0s 775us/step - loss: 0.3383 - accuracy: 0.8601\n",
      "Epoch 76/100\n",
      "250/250 [==============================] - 0s 750us/step - loss: 0.3381 - accuracy: 0.8609\n",
      "Epoch 77/100\n",
      "250/250 [==============================] - 0s 767us/step - loss: 0.3378 - accuracy: 0.8614\n",
      "Epoch 78/100\n",
      "250/250 [==============================] - 0s 789us/step - loss: 0.3383 - accuracy: 0.8621\n",
      "Epoch 79/100\n",
      "250/250 [==============================] - 0s 782us/step - loss: 0.3372 - accuracy: 0.8609\n"
     ]
    },
    {
     "name": "stdout",
     "output_type": "stream",
     "text": [
      "Epoch 80/100\n",
      "250/250 [==============================] - 0s 731us/step - loss: 0.3377 - accuracy: 0.8636\n",
      "Epoch 81/100\n",
      "250/250 [==============================] - 0s 746us/step - loss: 0.3375 - accuracy: 0.8618\n",
      "Epoch 82/100\n",
      "250/250 [==============================] - 0s 727us/step - loss: 0.3375 - accuracy: 0.8611\n",
      "Epoch 83/100\n",
      "250/250 [==============================] - 0s 756us/step - loss: 0.3376 - accuracy: 0.8621\n",
      "Epoch 84/100\n",
      "250/250 [==============================] - 0s 740us/step - loss: 0.3379 - accuracy: 0.8624\n",
      "Epoch 85/100\n",
      "250/250 [==============================] - 0s 833us/step - loss: 0.3374 - accuracy: 0.8624\n",
      "Epoch 86/100\n",
      "250/250 [==============================] - 0s 825us/step - loss: 0.3369 - accuracy: 0.8605\n",
      "Epoch 87/100\n",
      "250/250 [==============================] - 0s 801us/step - loss: 0.3374 - accuracy: 0.8635\n",
      "Epoch 88/100\n",
      "250/250 [==============================] - 0s 1ms/step - loss: 0.3372 - accuracy: 0.8609\n",
      "Epoch 89/100\n",
      "250/250 [==============================] - 0s 792us/step - loss: 0.3371 - accuracy: 0.8631\n",
      "Epoch 90/100\n",
      "250/250 [==============================] - 0s 813us/step - loss: 0.3368 - accuracy: 0.8602\n",
      "Epoch 91/100\n",
      "250/250 [==============================] - 0s 846us/step - loss: 0.3367 - accuracy: 0.8619\n",
      "Epoch 92/100\n",
      "250/250 [==============================] - 0s 766us/step - loss: 0.3365 - accuracy: 0.8626\n",
      "Epoch 93/100\n",
      "250/250 [==============================] - 0s 743us/step - loss: 0.3366 - accuracy: 0.8619\n",
      "Epoch 94/100\n",
      "250/250 [==============================] - 0s 754us/step - loss: 0.3369 - accuracy: 0.8616\n",
      "Epoch 95/100\n",
      "250/250 [==============================] - 0s 750us/step - loss: 0.3369 - accuracy: 0.8635\n",
      "Epoch 96/100\n",
      "250/250 [==============================] - 0s 761us/step - loss: 0.3368 - accuracy: 0.8620\n",
      "Epoch 97/100\n",
      "250/250 [==============================] - 0s 744us/step - loss: 0.3368 - accuracy: 0.8644\n",
      "Epoch 98/100\n",
      "250/250 [==============================] - 0s 892us/step - loss: 0.3366 - accuracy: 0.8630\n",
      "Epoch 99/100\n",
      "250/250 [==============================] - 0s 849us/step - loss: 0.3365 - accuracy: 0.8620\n",
      "Epoch 100/100\n",
      "250/250 [==============================] - 0s 786us/step - loss: 0.3363 - accuracy: 0.8618\n"
     ]
    },
    {
     "data": {
      "text/plain": [
       "<tensorflow.python.keras.callbacks.History at 0x7fb2743da0d0>"
      ]
     },
     "execution_count": 96,
     "metadata": {},
     "output_type": "execute_result"
    }
   ],
   "source": [
    "ann.fit(X_train, y_train, batch_size = 32, epochs = 100)"
   ]
  },
  {
   "cell_type": "markdown",
   "metadata": {
    "colab_type": "text",
    "id": "tJj5k2MxZga3"
   },
   "source": [
    "### Making the predictions and evaluating the model"
   ]
  },
  {
   "cell_type": "markdown",
   "metadata": {
    "colab_type": "text",
    "id": "u7yx47jPZt11"
   },
   "source": [
    "### Predicting the Test set results"
   ]
  },
  {
   "cell_type": "code",
   "execution_count": 97,
   "metadata": {
    "colab": {
     "base_uri": "https://localhost:8080/",
     "height": 134
    },
    "colab_type": "code",
    "executionInfo": {
     "elapsed": 31748,
     "status": "ok",
     "timestamp": 1586428405581,
     "user": {
      "displayName": "Hadelin de Ponteves",
      "photoUrl": "https://lh3.googleusercontent.com/a-/AOh14GhEuXdT7eQweUmRPW8_laJuPggSK6hfvpl5a6WBaA=s64",
      "userId": "15047218817161520419"
     },
     "user_tz": -240
    },
    "id": "nIyEeQdRZwgs",
    "outputId": "a0f4d9ad-9a29-41dc-b101-9e7216d74dc0"
   },
   "outputs": [
    {
     "name": "stdout",
     "output_type": "stream",
     "text": [
      "[[0 0]\n",
      " [0 0]\n",
      " [0 0]\n",
      " ...\n",
      " [0 1]\n",
      " [0 1]\n",
      " [0 0]]\n"
     ]
    }
   ],
   "source": [
    "y_pred = ann.predict(X_test)\n",
    "y_pred = (y_pred > 0.5)\n",
    "print(np.concatenate((y_pred.reshape(len(y_pred),1), y_test.reshape(len(y_test),1)),1))"
   ]
  },
  {
   "cell_type": "markdown",
   "metadata": {
    "colab_type": "text",
    "id": "o0oyfLWoaEGw"
   },
   "source": [
    "### Making the Confusion Matrix"
   ]
  },
  {
   "cell_type": "code",
   "execution_count": 98,
   "metadata": {
    "colab": {
     "base_uri": "https://localhost:8080/",
     "height": 50
    },
    "colab_type": "code",
    "executionInfo": {
     "elapsed": 31746,
     "status": "ok",
     "timestamp": 1586428405581,
     "user": {
      "displayName": "Hadelin de Ponteves",
      "photoUrl": "https://lh3.googleusercontent.com/a-/AOh14GhEuXdT7eQweUmRPW8_laJuPggSK6hfvpl5a6WBaA=s64",
      "userId": "15047218817161520419"
     },
     "user_tz": -240
    },
    "id": "ci6K_r6LaF6P",
    "outputId": "09bd315f-7091-457f-b222-ce3998de57a5"
   },
   "outputs": [
    {
     "name": "stdout",
     "output_type": "stream",
     "text": [
      "[[1516   94]\n",
      " [ 203  187]]\n"
     ]
    }
   ],
   "source": [
    "cm = confusion_matrix(y_test, y_pred)\n",
    "print(cm)"
   ]
  },
  {
   "cell_type": "markdown",
   "metadata": {},
   "source": [
    "### Cross-validation approach for obtaining model accuracy"
   ]
  },
  {
   "cell_type": "code",
   "execution_count": 99,
   "metadata": {},
   "outputs": [],
   "source": [
    "def build_classifier():\n",
    "    classifier = tf.keras.models.Sequential()\n",
    "    classifier.add(tf.keras.layers.Dense(units=6, activation='relu'))\n",
    "    classifier.add(tf.keras.layers.Dense(units=6, activation='relu'))\n",
    "    classifier.add(tf.keras.layers.Dense(units=1, activation='sigmoid'))\n",
    "    classifier.compile(optimizer = 'adam', loss = 'binary_crossentropy', metrics = ['accuracy'])\n",
    "    \n",
    "    return classifier"
   ]
  },
  {
   "cell_type": "code",
   "execution_count": 100,
   "metadata": {},
   "outputs": [],
   "source": [
    "classifier = KerasClassifier(build_fn=build_classifier, batch_size = 10, nb_epoch = 100)"
   ]
  },
  {
   "cell_type": "code",
   "execution_count": 101,
   "metadata": {},
   "outputs": [
    {
     "name": "stdout",
     "output_type": "stream",
     "text": [
      "720/720 [==============================] - 1s 740us/step - loss: 0.5243 - accuracy: 0.7665\n",
      "80/80 [==============================] - 0s 656us/step - loss: 0.4505 - accuracy: 0.7962\n",
      "720/720 [==============================] - 1s 883us/step - loss: 0.5353 - accuracy: 0.7539\n",
      "80/80 [==============================] - 0s 721us/step - loss: 0.4603 - accuracy: 0.7862\n",
      "720/720 [==============================] - 1s 745us/step - loss: 0.5013 - accuracy: 0.7900\n",
      "80/80 [==============================] - 0s 3ms/step - loss: 0.4560 - accuracy: 0.7900\n",
      "720/720 [==============================] - 1s 720us/step - loss: 0.4838 - accuracy: 0.7864\n",
      "80/80 [==============================] - 0s 664us/step - loss: 0.4557 - accuracy: 0.7875\n",
      "720/720 [==============================] - 1s 714us/step - loss: 0.4731 - accuracy: 0.7954\n",
      "80/80 [==============================] - 0s 653us/step - loss: 0.4563 - accuracy: 0.7925\n",
      "720/720 [==============================] - 1s 726us/step - loss: 0.5020 - accuracy: 0.7753\n",
      "80/80 [==============================] - 0s 585us/step - loss: 0.4602 - accuracy: 0.7937\n",
      "720/720 [==============================] - 1s 716us/step - loss: 0.4903 - accuracy: 0.7900\n",
      "80/80 [==============================] - 0s 659us/step - loss: 0.4497 - accuracy: 0.7987\n",
      "720/720 [==============================] - 1s 719us/step - loss: 0.5856 - accuracy: 0.6806\n",
      "80/80 [==============================] - 0s 624us/step - loss: 0.4652 - accuracy: 0.7912\n",
      "720/720 [==============================] - 1s 699us/step - loss: 0.5030 - accuracy: 0.7749\n",
      "80/80 [==============================] - 0s 602us/step - loss: 0.4245 - accuracy: 0.8163\n",
      "720/720 [==============================] - 1s 710us/step - loss: 0.5033 - accuracy: 0.7982\n",
      "80/80 [==============================] - 0s 690us/step - loss: 0.4515 - accuracy: 0.8025\n"
     ]
    }
   ],
   "source": [
    "accuracies = cross_val_score(estimator=classifier, X=X_train, y=y_train, cv=10, n_jobs=1)"
   ]
  },
  {
   "cell_type": "code",
   "execution_count": 102,
   "metadata": {},
   "outputs": [
    {
     "name": "stdout",
     "output_type": "stream",
     "text": [
      "0.7955000042915344\n"
     ]
    }
   ],
   "source": [
    "mean = accuracies.mean()\n",
    "print(mean)"
   ]
  },
  {
   "cell_type": "code",
   "execution_count": 103,
   "metadata": {},
   "outputs": [
    {
     "name": "stdout",
     "output_type": "stream",
     "text": [
      "0.00837033793233716\n"
     ]
    }
   ],
   "source": [
    "variance = accuracies.std()\n",
    "print(variance)"
   ]
  }
 ],
 "metadata": {
  "colab": {
   "authorship_tag": "ABX9TyMwbl0jJoa05wuIU59y39H3",
   "collapsed_sections": [],
   "name": "Artificial Neural Network",
   "provenance": []
  },
  "kernelspec": {
   "display_name": "Python 3",
   "language": "python",
   "name": "python3"
  },
  "language_info": {
   "codemirror_mode": {
    "name": "ipython",
    "version": 3
   },
   "file_extension": ".py",
   "mimetype": "text/x-python",
   "name": "python",
   "nbconvert_exporter": "python",
   "pygments_lexer": "ipython3",
   "version": "3.8.5"
  }
 },
 "nbformat": 4,
 "nbformat_minor": 1
}
